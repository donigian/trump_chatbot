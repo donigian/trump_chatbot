{
 "cells": [
  {
   "cell_type": "markdown",
   "metadata": {},
   "source": [
    "## Trump ChatBot"
   ]
  },
  {
   "cell_type": "code",
   "execution_count": 1,
   "metadata": {
    "collapsed": true
   },
   "outputs": [],
   "source": [
    "import pandas as pd\n",
    "import re\n",
    "pd.set_option('display.max_colwidth',200)"
   ]
  },
  {
   "cell_type": "code",
   "execution_count": 2,
   "metadata": {
    "collapsed": false
   },
   "outputs": [
    {
     "data": {
      "text/html": [
       "<div>\n",
       "<style>\n",
       "    .dataframe thead tr:only-child th {\n",
       "        text-align: right;\n",
       "    }\n",
       "\n",
       "    .dataframe thead th {\n",
       "        text-align: left;\n",
       "    }\n",
       "\n",
       "    .dataframe tbody tr th {\n",
       "        vertical-align: top;\n",
       "    }\n",
       "</style>\n",
       "<table border=\"1\" class=\"dataframe\">\n",
       "  <thead>\n",
       "    <tr style=\"text-align: right;\">\n",
       "      <th></th>\n",
       "      <th>text</th>\n",
       "    </tr>\n",
       "  </thead>\n",
       "  <tbody>\n",
       "    <tr>\n",
       "      <th>0</th>\n",
       "      <td>HAPPY 70th BIRTHDAY to the @USAirForce! The American people are eternally grateful. Thank you for keeping America PROUD STRONG and FREE! https://t.co/DYxkh3gj0R</td>\n",
       "    </tr>\n",
       "    <tr>\n",
       "      <th>1</th>\n",
       "      <td>We will defend our people our nations and our civilization from all who dare to threaten our way of life...cont: https://t.co/SYBRshx89b https://t.co/sIiAuxL3OE</td>\n",
       "    </tr>\n",
       "    <tr>\n",
       "      <th>2</th>\n",
       "      <td>Our hearts &amp;amp; prayers go out to the people of London who suffered a vicious terrorist attack.... https://t.co/Q2hTBV2l5t</td>\n",
       "    </tr>\n",
       "    <tr>\n",
       "      <th>3</th>\n",
       "      <td>NEVER forget our HEROES held prisoner or who have gone missing in action while serving their country.Proclamation: https://t.co/4xBZGjAGj5 https://t.co/yZTr7rlpTV</td>\n",
       "    </tr>\n",
       "    <tr>\n",
       "      <th>4</th>\n",
       "      <td>Frank “FX” Giaccio-On behalf of @FLOTUS Melania &amp;amp; myself THANK YOU for doing a GREAT job this morning! @NatlParkService gives you an A+! https://t.co/135DxuapUI</td>\n",
       "    </tr>\n",
       "    <tr>\n",
       "      <th>5</th>\n",
       "      <td>WEEKLY ADDRESS🇺🇸 https://t.co/MsaLA9POAt</td>\n",
       "    </tr>\n",
       "    <tr>\n",
       "      <th>6</th>\n",
       "      <td>CHAIN MIGRATION cannot be allowed to be part of any legislation on Immigration!</td>\n",
       "    </tr>\n",
       "    <tr>\n",
       "      <th>7</th>\n",
       "      <td>ESPN is paying a really big price for its politics (and bad programming). People are dumping it in RECORD numbers. Apologize for untruth!</td>\n",
       "    </tr>\n",
       "    <tr>\n",
       "      <th>8</th>\n",
       "      <td>We have made more progress in the last nine months against ISIS than the Obama Administration has made in 8 years.Must be proactive &amp;amp; nasty!</td>\n",
       "    </tr>\n",
       "    <tr>\n",
       "      <th>9</th>\n",
       "      <td>The travel ban into the United States should be far larger tougher and more specific-but stupidly that would not be politically correct!</td>\n",
       "    </tr>\n",
       "    <tr>\n",
       "      <th>10</th>\n",
       "      <td>Loser terrorists must be dealt with in a much tougher manner.The internet is their main recruitment tool which we must cut off &amp;amp; use better!</td>\n",
       "    </tr>\n",
       "    <tr>\n",
       "      <th>11</th>\n",
       "      <td>Another attack in London by a loser terrorist.These are sick and demented people who were in the sights of Scotland Yard. Must be proactive!</td>\n",
       "    </tr>\n",
       "    <tr>\n",
       "      <th>12</th>\n",
       "      <td>With the ridiculous Filibuster Rule in the Senate Republicans need 60 votes to pass legislation rather than 51. Can't get votes END NOW!</td>\n",
       "    </tr>\n",
       "    <tr>\n",
       "      <th>13</th>\n",
       "      <td>FLORIDA-Just like TX WE are w/you today we are w/you tomorrow &amp;amp; we will be w/you EVERY SINGLE DAY AFTER to RESTORE RECOVER &amp;amp; REBUILD! https://t.co/phRMudujxJ</td>\n",
       "    </tr>\n",
       "    <tr>\n",
       "      <th>14</th>\n",
       "      <td>WE ARE WITH YOU FLORIDA!Emergency Information 1-800-342-3557https://t.co/zbWkR5VmDpVolunteer 1-800-FL-HELP-1https://t.co/ghkbVajBN0 https://t.co/2Jj85weO1U</td>\n",
       "    </tr>\n",
       "    <tr>\n",
       "      <th>15</th>\n",
       "      <td>...I told Republicans to approve healthcare fast or this would happen. But don't worry I will veto because I love our country &amp;amp; its people.</td>\n",
       "    </tr>\n",
       "    <tr>\n",
       "      <th>16</th>\n",
       "      <td>Bernie Sanders is pushing hard for a single payer healthcare plan - a curse on the U.S. &amp;amp; its people...</td>\n",
       "    </tr>\n",
       "    <tr>\n",
       "      <th>17</th>\n",
       "      <td>Spoke to President of Mexico to give condolences on terrible earthquake. Unable to reach for 3 days b/c of his cell phone reception at site.</td>\n",
       "    </tr>\n",
       "    <tr>\n",
       "      <th>18</th>\n",
       "      <td>Just left Florida for D.C. The people and spirit in THAT GREAT STATE is unbelievable. Damage horrific but will be better than ever!</td>\n",
       "    </tr>\n",
       "    <tr>\n",
       "      <th>19</th>\n",
       "      <td>Am leaving now for Florida to see our GREAT first responders and to thank the U.S. Coast Guard FEMA etc. A real disaster much work to do!</td>\n",
       "    </tr>\n",
       "    <tr>\n",
       "      <th>20</th>\n",
       "      <td>...They have been in our country for many years through no fault of their own - brought in by parents at young age. Plus BIG border security</td>\n",
       "    </tr>\n",
       "    <tr>\n",
       "      <th>21</th>\n",
       "      <td>Does anybody really want to throw out good educated and accomplished young people who have jobs some serving in the military? Really!.....</td>\n",
       "    </tr>\n",
       "    <tr>\n",
       "      <th>22</th>\n",
       "      <td>The WALL which is already under construction in the form of new renovation of old and existing fences and walls will continue to be built.</td>\n",
       "    </tr>\n",
       "    <tr>\n",
       "      <th>23</th>\n",
       "      <td>No deal was made last night on DACA. Massive border security would have to be agreed to in exchange for consent. Would be subject to vote.</td>\n",
       "    </tr>\n",
       "    <tr>\n",
       "      <th>24</th>\n",
       "      <td>The \"deplorables\" came back to haunt Hillary.They expressed their feelings loud and clear. She spent big money but in the end had no game!</td>\n",
       "    </tr>\n",
       "    <tr>\n",
       "      <th>25</th>\n",
       "      <td>Crooked Hillary Clinton blames everybody (and every thing) but herself for her election loss. She lost the debates and lost her direction!</td>\n",
       "    </tr>\n",
       "    <tr>\n",
       "      <th>26</th>\n",
       "      <td>China has a business tax rate of 15%. We should do everything possible to match them in order to win with our economy. Jobs and wages!</td>\n",
       "    </tr>\n",
       "    <tr>\n",
       "      <th>27</th>\n",
       "      <td>With Irma and Harvey devastation Tax Cuts and Tax Reform is needed more than ever before. Go Congress go!</td>\n",
       "    </tr>\n",
       "    <tr>\n",
       "      <th>28</th>\n",
       "      <td>I will be traveling to Florida tomorrow to meet with our great Coast Guard FEMA and many of the brave first responders &amp;amp; others.</td>\n",
       "    </tr>\n",
       "    <tr>\n",
       "      <th>29</th>\n",
       "      <td>The approval process for the biggest Tax Cut &amp;amp; Tax Reform package in the history of our country will soon begin. Move fast Congress!</td>\n",
       "    </tr>\n",
       "    <tr>\n",
       "      <th>...</th>\n",
       "      <td>...</td>\n",
       "    </tr>\n",
       "    <tr>\n",
       "      <th>28993</th>\n",
       "      <td>Donald Trump’s commercial-free WWE Raw does big rating: http://tinyurl.com/nxvquo</td>\n",
       "    </tr>\n",
       "    <tr>\n",
       "      <th>28994</th>\n",
       "      <td>“Expand your life every day.” –Donald J. Trump http://tinyurl.com/pqpfvm</td>\n",
       "    </tr>\n",
       "    <tr>\n",
       "      <th>28995</th>\n",
       "      <td>- Wishing a Happy Father's Day to all the Dad's out there - YOU are a champion today and everyday! http://tinyurl.com/kn95ju</td>\n",
       "    </tr>\n",
       "    <tr>\n",
       "      <th>28996</th>\n",
       "      <td>RE: FB Vanity URLs: SF Chronicle - \"David Beckham was one of the first along with Britney Spears &amp; Donald Trump.\" http://tinyurl.com/ln4lol</td>\n",
       "    </tr>\n",
       "    <tr>\n",
       "      <th>28997</th>\n",
       "      <td>Thanks to all for your thoughtful birthday wishes – Donald Trump</td>\n",
       "    </tr>\n",
       "    <tr>\n",
       "      <th>28998</th>\n",
       "      <td>Today is Donald Trump's Birthday! Send him your B'day wishes here: http://www.facebook.com/DonaldTrump</td>\n",
       "    </tr>\n",
       "    <tr>\n",
       "      <th>28999</th>\n",
       "      <td>Last week to enter the \"Think Like A Champion\" signed book and keychain contest: http://www.trumpthinklikeachampion.com/contest/</td>\n",
       "    </tr>\n",
       "    <tr>\n",
       "      <th>29000</th>\n",
       "      <td>“If you don't have problems you're pretending or you don't run your own business.” –Donald J. Trump  http://tinyurl.com/pqpfvm</td>\n",
       "    </tr>\n",
       "    <tr>\n",
       "      <th>29001</th>\n",
       "      <td>Check out Donald Trump's new iGoogle Showcase page:http://bit.ly/DdD2A</td>\n",
       "    </tr>\n",
       "    <tr>\n",
       "      <th>29002</th>\n",
       "      <td>You have to know when to call it quits and when to keep moving forward. --Donald J. Trump http://www.trumpthinklikeachampion.com</td>\n",
       "    </tr>\n",
       "    <tr>\n",
       "      <th>29003</th>\n",
       "      <td>Read an excerpt from Think Like A Champion by Donald J. Trump: http://bit.ly/11FHpR</td>\n",
       "    </tr>\n",
       "    <tr>\n",
       "      <th>29004</th>\n",
       "      <td>Your higher self is in direct opposition to your comfort zone. --Donald J. Trump http://tinyurl.com/pqpfvm</td>\n",
       "    </tr>\n",
       "    <tr>\n",
       "      <th>29005</th>\n",
       "      <td>Did you know Donald Trump is on Facebook? http://www.facebook.com/DonaldTrump - Become a fan today!</td>\n",
       "    </tr>\n",
       "    <tr>\n",
       "      <th>29006</th>\n",
       "      <td>Don't forget to enter the \"Think Like A Champion\" signed book and keychain contest: http://www.trumpthinklikeachampion.com/contest</td>\n",
       "    </tr>\n",
       "    <tr>\n",
       "      <th>29007</th>\n",
       "      <td>Keep it fast short and direct - whatever it is. --Donald J. Trump http://tinyurl.com/pqpfvm</td>\n",
       "    </tr>\n",
       "    <tr>\n",
       "      <th>29008</th>\n",
       "      <td>Read a great interview with Donald Trump that appeared in The New York Times Magazine: http://tinyurl.com/qsx4o6</td>\n",
       "    </tr>\n",
       "    <tr>\n",
       "      <th>29009</th>\n",
       "      <td>Always know you could be on the precipice of something great. --Donald J. Trump http://tinyurl.com/pqpfvm</td>\n",
       "    </tr>\n",
       "    <tr>\n",
       "      <th>29010</th>\n",
       "      <td>...these days...we could all use a little of the power of Trumpative thinking. –BarnesandNoble.com http://tinyurl.com/pqpfvm</td>\n",
       "    </tr>\n",
       "    <tr>\n",
       "      <th>29011</th>\n",
       "      <td>We win in our lives by having a champion's view of each moment. --Donald J. Trump http://tinyurl.com/pqpfvm</td>\n",
       "    </tr>\n",
       "    <tr>\n",
       "      <th>29012</th>\n",
       "      <td>Don’t be afraid of being unique - it's like being afraid of your best self. --Donald J. Trump http://tinyurl.com/pqpfvm</td>\n",
       "    </tr>\n",
       "    <tr>\n",
       "      <th>29013</th>\n",
       "      <td>When the achiever achieves it's not a plateau it’s a beginning. --Donald J. Trump http://tinyurl.com/pqpfvm</td>\n",
       "    </tr>\n",
       "    <tr>\n",
       "      <th>29014</th>\n",
       "      <td>Enter the \"Think Like A Champion\" signed book and keychain contest:http://www.trumpthinklikeachampion.com/contest/</td>\n",
       "    </tr>\n",
       "    <tr>\n",
       "      <th>29015</th>\n",
       "      <td>Strive for wholeness and keep your sense of wonder intact. --Donald J. Trump http://tinyurl.com/pqpfvm</td>\n",
       "    </tr>\n",
       "    <tr>\n",
       "      <th>29016</th>\n",
       "      <td>Listen to an interview with Donald Trump discussing his new book Think Like A Champion: http://tinyurl.com/qs24vl</td>\n",
       "    </tr>\n",
       "    <tr>\n",
       "      <th>29017</th>\n",
       "      <td>Miss USA Tara Conner will not be fired - \"I've always been a believer in second chances.\" says Donald Trump</td>\n",
       "    </tr>\n",
       "    <tr>\n",
       "      <th>29018</th>\n",
       "      <td>My persona will never be that of a wallflower - I’d rather build walls than cling to them --Donald J. Trump</td>\n",
       "    </tr>\n",
       "    <tr>\n",
       "      <th>29019</th>\n",
       "      <td>New Blog Post: Celebrity Apprentice Finale and Lessons Learned Along the Way: http://tinyurl.com/qlux5e</td>\n",
       "    </tr>\n",
       "    <tr>\n",
       "      <th>29020</th>\n",
       "      <td>Donald Trump reads Top Ten Financial Tips on Late Show with David Letterman: http://tinyurl.com/ooafwn - Very funny!</td>\n",
       "    </tr>\n",
       "    <tr>\n",
       "      <th>29021</th>\n",
       "      <td>Donald Trump will be appearing on The View tomorrow morning to discuss Celebrity Apprentice and his new book Think Like A Champion!</td>\n",
       "    </tr>\n",
       "    <tr>\n",
       "      <th>29022</th>\n",
       "      <td>Be sure to tune in and watch Donald Trump on Late Night with David Letterman as he presents the Top Ten List tonight!</td>\n",
       "    </tr>\n",
       "  </tbody>\n",
       "</table>\n",
       "<p>29023 rows × 1 columns</p>\n",
       "</div>"
      ],
      "text/plain": [
       "                                                                                                                                                                        text\n",
       "0           HAPPY 70th BIRTHDAY to the @USAirForce! The American people are eternally grateful. Thank you for keeping America PROUD STRONG and FREE! https://t.co/DYxkh3gj0R\n",
       "1           We will defend our people our nations and our civilization from all who dare to threaten our way of life...cont: https://t.co/SYBRshx89b https://t.co/sIiAuxL3OE\n",
       "2                                                Our hearts &amp; prayers go out to the people of London who suffered a vicious terrorist attack.... https://t.co/Q2hTBV2l5t\n",
       "3         NEVER forget our HEROES held prisoner or who have gone missing in action while serving their country.Proclamation: https://t.co/4xBZGjAGj5 https://t.co/yZTr7rlpTV\n",
       "4       Frank “FX” Giaccio-On behalf of @FLOTUS Melania &amp; myself THANK YOU for doing a GREAT job this morning! @NatlParkService gives you an A+! https://t.co/135DxuapUI\n",
       "5                                                                                                                                   WEEKLY ADDRESS🇺🇸 https://t.co/MsaLA9POAt\n",
       "6                                                                                            CHAIN MIGRATION cannot be allowed to be part of any legislation on Immigration!\n",
       "7                                  ESPN is paying a really big price for its politics (and bad programming). People are dumping it in RECORD numbers. Apologize for untruth!\n",
       "8                           We have made more progress in the last nine months against ISIS than the Obama Administration has made in 8 years.Must be proactive &amp; nasty!\n",
       "9                                   The travel ban into the United States should be far larger tougher and more specific-but stupidly that would not be politically correct!\n",
       "10                          Loser terrorists must be dealt with in a much tougher manner.The internet is their main recruitment tool which we must cut off &amp; use better!\n",
       "11                              Another attack in London by a loser terrorist.These are sick and demented people who were in the sights of Scotland Yard. Must be proactive!\n",
       "12                                  With the ridiculous Filibuster Rule in the Senate Republicans need 60 votes to pass legislation rather than 51. Can't get votes END NOW!\n",
       "13     FLORIDA-Just like TX WE are w/you today we are w/you tomorrow &amp; we will be w/you EVERY SINGLE DAY AFTER to RESTORE RECOVER &amp; REBUILD! https://t.co/phRMudujxJ\n",
       "14               WE ARE WITH YOU FLORIDA!Emergency Information 1-800-342-3557https://t.co/zbWkR5VmDpVolunteer 1-800-FL-HELP-1https://t.co/ghkbVajBN0 https://t.co/2Jj85weO1U\n",
       "15                           ...I told Republicans to approve healthcare fast or this would happen. But don't worry I will veto because I love our country &amp; its people.\n",
       "16                                                               Bernie Sanders is pushing hard for a single payer healthcare plan - a curse on the U.S. &amp; its people...\n",
       "17                              Spoke to President of Mexico to give condolences on terrible earthquake. Unable to reach for 3 days b/c of his cell phone reception at site.\n",
       "18                                       Just left Florida for D.C. The people and spirit in THAT GREAT STATE is unbelievable. Damage horrific but will be better than ever!\n",
       "19                                 Am leaving now for Florida to see our GREAT first responders and to thank the U.S. Coast Guard FEMA etc. A real disaster much work to do!\n",
       "20                              ...They have been in our country for many years through no fault of their own - brought in by parents at young age. Plus BIG border security\n",
       "21                                Does anybody really want to throw out good educated and accomplished young people who have jobs some serving in the military? Really!.....\n",
       "22                                The WALL which is already under construction in the form of new renovation of old and existing fences and walls will continue to be built.\n",
       "23                                No deal was made last night on DACA. Massive border security would have to be agreed to in exchange for consent. Would be subject to vote.\n",
       "24                                The \"deplorables\" came back to haunt Hillary.They expressed their feelings loud and clear. She spent big money but in the end had no game!\n",
       "25                                Crooked Hillary Clinton blames everybody (and every thing) but herself for her election loss. She lost the debates and lost her direction!\n",
       "26                                    China has a business tax rate of 15%. We should do everything possible to match them in order to win with our economy. Jobs and wages!\n",
       "27                                                                 With Irma and Harvey devastation Tax Cuts and Tax Reform is needed more than ever before. Go Congress go!\n",
       "28                                      I will be traveling to Florida tomorrow to meet with our great Coast Guard FEMA and many of the brave first responders &amp; others.\n",
       "29                                  The approval process for the biggest Tax Cut &amp; Tax Reform package in the history of our country will soon begin. Move fast Congress!\n",
       "...                                                                                                                                                                      ...\n",
       "28993                                                                                      Donald Trump’s commercial-free WWE Raw does big rating: http://tinyurl.com/nxvquo\n",
       "28994                                                                                               “Expand your life every day.” –Donald J. Trump http://tinyurl.com/pqpfvm\n",
       "28995                                           - Wishing a Happy Father's Day to all the Dad's out there - YOU are a champion today and everyday! http://tinyurl.com/kn95ju\n",
       "28996                            RE: FB Vanity URLs: SF Chronicle - \"David Beckham was one of the first along with Britney Spears & Donald Trump.\" http://tinyurl.com/ln4lol\n",
       "28997                                                                                                       Thanks to all for your thoughtful birthday wishes – Donald Trump\n",
       "28998                                                                 Today is Donald Trump's Birthday! Send him your B'day wishes here: http://www.facebook.com/DonaldTrump\n",
       "28999                                       Last week to enter the \"Think Like A Champion\" signed book and keychain contest: http://www.trumpthinklikeachampion.com/contest/\n",
       "29000                                         “If you don't have problems you're pretending or you don't run your own business.” –Donald J. Trump  http://tinyurl.com/pqpfvm\n",
       "29001                                                                                                 Check out Donald Trump's new iGoogle Showcase page:http://bit.ly/DdD2A\n",
       "29002                                       You have to know when to call it quits and when to keep moving forward. --Donald J. Trump http://www.trumpthinklikeachampion.com\n",
       "29003                                                                                    Read an excerpt from Think Like A Champion by Donald J. Trump: http://bit.ly/11FHpR\n",
       "29004                                                             Your higher self is in direct opposition to your comfort zone. --Donald J. Trump http://tinyurl.com/pqpfvm\n",
       "29005                                                                    Did you know Donald Trump is on Facebook? http://www.facebook.com/DonaldTrump - Become a fan today!\n",
       "29006                                     Don't forget to enter the \"Think Like A Champion\" signed book and keychain contest: http://www.trumpthinklikeachampion.com/contest\n",
       "29007                                                                            Keep it fast short and direct - whatever it is. --Donald J. Trump http://tinyurl.com/pqpfvm\n",
       "29008                                                       Read a great interview with Donald Trump that appeared in The New York Times Magazine: http://tinyurl.com/qsx4o6\n",
       "29009                                                              Always know you could be on the precipice of something great. --Donald J. Trump http://tinyurl.com/pqpfvm\n",
       "29010                                           ...these days...we could all use a little of the power of Trumpative thinking. –BarnesandNoble.com http://tinyurl.com/pqpfvm\n",
       "29011                                                            We win in our lives by having a champion's view of each moment. --Donald J. Trump http://tinyurl.com/pqpfvm\n",
       "29012                                                Don’t be afraid of being unique - it's like being afraid of your best self. --Donald J. Trump http://tinyurl.com/pqpfvm\n",
       "29013                                                            When the achiever achieves it's not a plateau it’s a beginning. --Donald J. Trump http://tinyurl.com/pqpfvm\n",
       "29014                                                     Enter the \"Think Like A Champion\" signed book and keychain contest:http://www.trumpthinklikeachampion.com/contest/\n",
       "29015                                                                 Strive for wholeness and keep your sense of wonder intact. --Donald J. Trump http://tinyurl.com/pqpfvm\n",
       "29016                                                      Listen to an interview with Donald Trump discussing his new book Think Like A Champion: http://tinyurl.com/qs24vl\n",
       "29017                                                            Miss USA Tara Conner will not be fired - \"I've always been a believer in second chances.\" says Donald Trump\n",
       "29018                                                            My persona will never be that of a wallflower - I’d rather build walls than cling to them --Donald J. Trump\n",
       "29019                                                                New Blog Post: Celebrity Apprentice Finale and Lessons Learned Along the Way: http://tinyurl.com/qlux5e\n",
       "29020                                                   Donald Trump reads Top Ten Financial Tips on Late Show with David Letterman: http://tinyurl.com/ooafwn - Very funny!\n",
       "29021                                    Donald Trump will be appearing on The View tomorrow morning to discuss Celebrity Apprentice and his new book Think Like A Champion!\n",
       "29022                                                  Be sure to tune in and watch Donald Trump on Late Night with David Letterman as he presents the Top Ten List tonight!\n",
       "\n",
       "[29023 rows x 1 columns]"
      ]
     },
     "execution_count": 2,
     "metadata": {},
     "output_type": "execute_result"
    }
   ],
   "source": [
    "df = pd.read_csv(r'/Users/arm/Downloads/chatbot_training_trump.csv')\n",
    "df"
   ]
  },
  {
   "cell_type": "code",
   "execution_count": 3,
   "metadata": {
    "collapsed": false
   },
   "outputs": [
    {
     "data": {
      "text/plain": [
       "(29023, 1)"
      ]
     },
     "execution_count": 3,
     "metadata": {},
     "output_type": "execute_result"
    }
   ],
   "source": [
    "df.shape"
   ]
  },
  {
   "cell_type": "code",
   "execution_count": 4,
   "metadata": {
    "collapsed": false
   },
   "outputs": [
    {
     "data": {
      "text/plain": [
       "0             HAPPY 70th BIRTHDAY to the @USAirForce! The American people are eternally grateful. Thank you for keeping America PROUD STRONG and FREE! https://t.co/DYxkh3gj0R\n",
       "1             We will defend our people our nations and our civilization from all who dare to threaten our way of life...cont: https://t.co/SYBRshx89b https://t.co/sIiAuxL3OE\n",
       "2                                                  Our hearts &amp; prayers go out to the people of London who suffered a vicious terrorist attack.... https://t.co/Q2hTBV2l5t\n",
       "3           NEVER forget our HEROES held prisoner or who have gone missing in action while serving their country.Proclamation: https://t.co/4xBZGjAGj5 https://t.co/yZTr7rlpTV\n",
       "4         Frank “FX” Giaccio-On behalf of @FLOTUS Melania &amp; myself THANK YOU for doing a GREAT job this morning! @NatlParkService gives you an A+! https://t.co/135DxuapUI\n",
       "5                                                                                                                                     WEEKLY ADDRESS🇺🇸 https://t.co/MsaLA9POAt\n",
       "6                                                                                              CHAIN MIGRATION cannot be allowed to be part of any legislation on Immigration!\n",
       "7                                    ESPN is paying a really big price for its politics (and bad programming). People are dumping it in RECORD numbers. Apologize for untruth!\n",
       "8                             We have made more progress in the last nine months against ISIS than the Obama Administration has made in 8 years.Must be proactive &amp; nasty!\n",
       "9                                     The travel ban into the United States should be far larger tougher and more specific-but stupidly that would not be politically correct!\n",
       "10                            Loser terrorists must be dealt with in a much tougher manner.The internet is their main recruitment tool which we must cut off &amp; use better!\n",
       "11                                Another attack in London by a loser terrorist.These are sick and demented people who were in the sights of Scotland Yard. Must be proactive!\n",
       "12                                    With the ridiculous Filibuster Rule in the Senate Republicans need 60 votes to pass legislation rather than 51. Can't get votes END NOW!\n",
       "13       FLORIDA-Just like TX WE are w/you today we are w/you tomorrow &amp; we will be w/you EVERY SINGLE DAY AFTER to RESTORE RECOVER &amp; REBUILD! https://t.co/phRMudujxJ\n",
       "14                 WE ARE WITH YOU FLORIDA!Emergency Information 1-800-342-3557https://t.co/zbWkR5VmDpVolunteer 1-800-FL-HELP-1https://t.co/ghkbVajBN0 https://t.co/2Jj85weO1U\n",
       "15                             ...I told Republicans to approve healthcare fast or this would happen. But don't worry I will veto because I love our country &amp; its people.\n",
       "16                                                                 Bernie Sanders is pushing hard for a single payer healthcare plan - a curse on the U.S. &amp; its people...\n",
       "17                                Spoke to President of Mexico to give condolences on terrible earthquake. Unable to reach for 3 days b/c of his cell phone reception at site.\n",
       "18                                         Just left Florida for D.C. The people and spirit in THAT GREAT STATE is unbelievable. Damage horrific but will be better than ever!\n",
       "19                                   Am leaving now for Florida to see our GREAT first responders and to thank the U.S. Coast Guard FEMA etc. A real disaster much work to do!\n",
       "20                                ...They have been in our country for many years through no fault of their own - brought in by parents at young age. Plus BIG border security\n",
       "21                                  Does anybody really want to throw out good educated and accomplished young people who have jobs some serving in the military? Really!.....\n",
       "22                                  The WALL which is already under construction in the form of new renovation of old and existing fences and walls will continue to be built.\n",
       "23                                  No deal was made last night on DACA. Massive border security would have to be agreed to in exchange for consent. Would be subject to vote.\n",
       "24                                  The \"deplorables\" came back to haunt Hillary.They expressed their feelings loud and clear. She spent big money but in the end had no game!\n",
       "25                                  Crooked Hillary Clinton blames everybody (and every thing) but herself for her election loss. She lost the debates and lost her direction!\n",
       "26                                      China has a business tax rate of 15%. We should do everything possible to match them in order to win with our economy. Jobs and wages!\n",
       "27                                                                   With Irma and Harvey devastation Tax Cuts and Tax Reform is needed more than ever before. Go Congress go!\n",
       "28                                        I will be traveling to Florida tomorrow to meet with our great Coast Guard FEMA and many of the brave first responders &amp; others.\n",
       "29                                    The approval process for the biggest Tax Cut &amp; Tax Reform package in the history of our country will soon begin. Move fast Congress!\n",
       "                                                                                         ...                                                                                  \n",
       "28993                                                                                        Donald Trump’s commercial-free WWE Raw does big rating: http://tinyurl.com/nxvquo\n",
       "28994                                                                                                 “Expand your life every day.” –Donald J. Trump http://tinyurl.com/pqpfvm\n",
       "28995                                             - Wishing a Happy Father's Day to all the Dad's out there - YOU are a champion today and everyday! http://tinyurl.com/kn95ju\n",
       "28996                              RE: FB Vanity URLs: SF Chronicle - \"David Beckham was one of the first along with Britney Spears & Donald Trump.\" http://tinyurl.com/ln4lol\n",
       "28997                                                                                                         Thanks to all for your thoughtful birthday wishes – Donald Trump\n",
       "28998                                                                   Today is Donald Trump's Birthday! Send him your B'day wishes here: http://www.facebook.com/DonaldTrump\n",
       "28999                                         Last week to enter the \"Think Like A Champion\" signed book and keychain contest: http://www.trumpthinklikeachampion.com/contest/\n",
       "29000                                           “If you don't have problems you're pretending or you don't run your own business.” –Donald J. Trump  http://tinyurl.com/pqpfvm\n",
       "29001                                                                                                   Check out Donald Trump's new iGoogle Showcase page:http://bit.ly/DdD2A\n",
       "29002                                         You have to know when to call it quits and when to keep moving forward. --Donald J. Trump http://www.trumpthinklikeachampion.com\n",
       "29003                                                                                      Read an excerpt from Think Like A Champion by Donald J. Trump: http://bit.ly/11FHpR\n",
       "29004                                                               Your higher self is in direct opposition to your comfort zone. --Donald J. Trump http://tinyurl.com/pqpfvm\n",
       "29005                                                                      Did you know Donald Trump is on Facebook? http://www.facebook.com/DonaldTrump - Become a fan today!\n",
       "29006                                       Don't forget to enter the \"Think Like A Champion\" signed book and keychain contest: http://www.trumpthinklikeachampion.com/contest\n",
       "29007                                                                              Keep it fast short and direct - whatever it is. --Donald J. Trump http://tinyurl.com/pqpfvm\n",
       "29008                                                         Read a great interview with Donald Trump that appeared in The New York Times Magazine: http://tinyurl.com/qsx4o6\n",
       "29009                                                                Always know you could be on the precipice of something great. --Donald J. Trump http://tinyurl.com/pqpfvm\n",
       "29010                                             ...these days...we could all use a little of the power of Trumpative thinking. –BarnesandNoble.com http://tinyurl.com/pqpfvm\n",
       "29011                                                              We win in our lives by having a champion's view of each moment. --Donald J. Trump http://tinyurl.com/pqpfvm\n",
       "29012                                                  Don’t be afraid of being unique - it's like being afraid of your best self. --Donald J. Trump http://tinyurl.com/pqpfvm\n",
       "29013                                                              When the achiever achieves it's not a plateau it’s a beginning. --Donald J. Trump http://tinyurl.com/pqpfvm\n",
       "29014                                                       Enter the \"Think Like A Champion\" signed book and keychain contest:http://www.trumpthinklikeachampion.com/contest/\n",
       "29015                                                                   Strive for wholeness and keep your sense of wonder intact. --Donald J. Trump http://tinyurl.com/pqpfvm\n",
       "29016                                                        Listen to an interview with Donald Trump discussing his new book Think Like A Champion: http://tinyurl.com/qs24vl\n",
       "29017                                                              Miss USA Tara Conner will not be fired - \"I've always been a believer in second chances.\" says Donald Trump\n",
       "29018                                                              My persona will never be that of a wallflower - I’d rather build walls than cling to them --Donald J. Trump\n",
       "29019                                                                  New Blog Post: Celebrity Apprentice Finale and Lessons Learned Along the Way: http://tinyurl.com/qlux5e\n",
       "29020                                                     Donald Trump reads Top Ten Financial Tips on Late Show with David Letterman: http://tinyurl.com/ooafwn - Very funny!\n",
       "29021                                      Donald Trump will be appearing on The View tomorrow morning to discuss Celebrity Apprentice and his new book Think Like A Champion!\n",
       "29022                                                    Be sure to tune in and watch Donald Trump on Late Night with David Letterman as he presents the Top Ten List tonight!\n",
       "Name: text, Length: 29023, dtype: object"
      ]
     },
     "execution_count": 4,
     "metadata": {},
     "output_type": "execute_result"
    }
   ],
   "source": [
    "conversation = df.iloc[:,0]\n",
    "conversation"
   ]
  },
  {
   "cell_type": "code",
   "execution_count": 5,
   "metadata": {
    "collapsed": false
   },
   "outputs": [],
   "source": [
    "clist = []\n",
    "def question_answer_pairs(x): \n",
    "    conversation_pairs = re.findall(r\": (.*?)(?:$|\\\\n)\", x)\n",
    "    clist.extend(list(zip(conversation_pairs, conversation_pairs[0:])))\n",
    "conversation.map(question_answer_pairs);\n",
    "conversation_frame = pd.Series(dict(clist)).to_frame().reset_index()\n",
    "conversation_frame.columns = ['question', 'answer']"
   ]
  },
  {
   "cell_type": "code",
   "execution_count": 6,
   "metadata": {
    "collapsed": false
   },
   "outputs": [
    {
     "data": {
      "text/html": [
       "<div>\n",
       "<style>\n",
       "    .dataframe thead tr:only-child th {\n",
       "        text-align: right;\n",
       "    }\n",
       "\n",
       "    .dataframe thead th {\n",
       "        text-align: left;\n",
       "    }\n",
       "\n",
       "    .dataframe tbody tr th {\n",
       "        vertical-align: top;\n",
       "    }\n",
       "</style>\n",
       "<table border=\"1\" class=\"dataframe\">\n",
       "  <thead>\n",
       "    <tr style=\"text-align: right;\">\n",
       "      <th></th>\n",
       "      <th>question</th>\n",
       "      <th>answer</th>\n",
       "    </tr>\n",
       "  </thead>\n",
       "  <tbody>\n",
       "    <tr>\n",
       "      <th>0</th>\n",
       "      <td>\"@realDonaldTrump please save our country before its too late!! President Trump sounds perfect\" Thanks.</td>\n",
       "      <td>\"@realDonaldTrump please save our country before its too late!! President Trump sounds perfect\" Thanks.</td>\n",
       "    </tr>\n",
       "    <tr>\n",
       "      <th>1</th>\n",
       "      <td>\"Donald Trump Knows How To (Tea) Party - THE DONALD PLANS SPLASHY LANDING IN MYRTLE BEACH S.C.\" http://t.co/I63Pftqv7e</td>\n",
       "      <td>\"Donald Trump Knows How To (Tea) Party - THE DONALD PLANS SPLASHY LANDING IN MYRTLE BEACH S.C.\" http://t.co/I63Pftqv7e</td>\n",
       "    </tr>\n",
       "    <tr>\n",
       "      <th>2</th>\n",
       "      <td>\"Donald Trump says he is no apprentice when it comes to Israel\"http://t.co/O4yHtwCzbm</td>\n",
       "      <td>\"Donald Trump says he is no apprentice when it comes to Israel\"http://t.co/O4yHtwCzbm</td>\n",
       "    </tr>\n",
       "    <tr>\n",
       "      <th>3</th>\n",
       "      <td>\"I think at this moment in time he’s the only candidate that speaks out about the country’s problems.\"</td>\n",
       "      <td>\"I think at this moment in time he’s the only candidate that speaks out about the country’s problems.\"</td>\n",
       "    </tr>\n",
       "    <tr>\n",
       "      <th>4</th>\n",
       "      <td>\"It's not our fault. Blame Bush. Oh and government built it.\"</td>\n",
       "      <td>\"It's not our fault. Blame Bush. Oh and government built it.\"</td>\n",
       "    </tr>\n",
       "  </tbody>\n",
       "</table>\n",
       "</div>"
      ],
      "text/plain": [
       "                                                                                                                      question  \\\n",
       "0                      \"@realDonaldTrump please save our country before its too late!! President Trump sounds perfect\" Thanks.   \n",
       "1       \"Donald Trump Knows How To (Tea) Party - THE DONALD PLANS SPLASHY LANDING IN MYRTLE BEACH S.C.\" http://t.co/I63Pftqv7e   \n",
       "2                                        \"Donald Trump says he is no apprentice when it comes to Israel\"http://t.co/O4yHtwCzbm   \n",
       "3                       \"I think at this moment in time he’s the only candidate that speaks out about the country’s problems.\"   \n",
       "4                                                                \"It's not our fault. Blame Bush. Oh and government built it.\"   \n",
       "\n",
       "                                                                                                                        answer  \n",
       "0                      \"@realDonaldTrump please save our country before its too late!! President Trump sounds perfect\" Thanks.  \n",
       "1       \"Donald Trump Knows How To (Tea) Party - THE DONALD PLANS SPLASHY LANDING IN MYRTLE BEACH S.C.\" http://t.co/I63Pftqv7e  \n",
       "2                                        \"Donald Trump says he is no apprentice when it comes to Israel\"http://t.co/O4yHtwCzbm  \n",
       "3                       \"I think at this moment in time he’s the only candidate that speaks out about the country’s problems.\"  \n",
       "4                                                                \"It's not our fault. Blame Bush. Oh and government built it.\"  "
      ]
     },
     "execution_count": 6,
     "metadata": {},
     "output_type": "execute_result"
    }
   ],
   "source": [
    "conversation_frame.head()"
   ]
  },
  {
   "cell_type": "code",
   "execution_count": 7,
   "metadata": {
    "collapsed": false
   },
   "outputs": [],
   "source": [
    "from sklearn.feature_extraction.text import TfidfVectorizer\n",
    "from sklearn.metrics.pairwise import cosine_similarity\n",
    "vectorizer = TfidfVectorizer(ngram_range=(1,3))\n",
    "vec = vectorizer.fit_transform(conversation_frame['question'])"
   ]
  },
  {
   "cell_type": "code",
   "execution_count": 8,
   "metadata": {
    "collapsed": false
   },
   "outputs": [
    {
     "data": {
      "text/plain": [
       "1304    0.231638\n",
       "1303    0.191105\n",
       "1062    0.166249\n",
       "995     0.164847\n",
       "856     0.123025\n",
       "dtype: float64"
      ]
     },
     "execution_count": 8,
     "metadata": {},
     "output_type": "execute_result"
    }
   ],
   "source": [
    "my_q = vectorizer.transform(['Hi. What is your name?'])\n",
    "cs = cosine_similarity(my_q, vec)\n",
    "rs = pd.Series(cs[0]).sort_values(ascending=False)\n",
    "top5 = rs.iloc[0:5]\n",
    "top5"
   ]
  },
  {
   "cell_type": "code",
   "execution_count": 9,
   "metadata": {
    "collapsed": false
   },
   "outputs": [
    {
     "data": {
      "text/plain": [
       "1304                                          @realDonaldTrump what is your favorite book that you have authored?  Art of the Deal!\n",
       "1303            @realDonaldTrump what is your best piece of advice for someone starting over at 40? Work hard and love what you do!\n",
       "1062    @realDonaldTrump craig ferguson called you a bad person the other day? what is your opinion of him?  Who is Craig Ferguson?\n",
       "995     @realDonaldTrump You have so much confidence. Have you always had it and what is your advice for trying to find my own WIN!\n",
       "856     @realDonaldTrump Mr. Trump Even though I'm not a Republican I wrote your name on my ballot during the election. A wise move\n",
       "Name: question, dtype: object"
      ]
     },
     "execution_count": 9,
     "metadata": {},
     "output_type": "execute_result"
    }
   ],
   "source": [
    "conversation_frame.iloc[top5.index]['question']"
   ]
  },
  {
   "cell_type": "code",
   "execution_count": 10,
   "metadata": {
    "collapsed": false
   },
   "outputs": [
    {
     "data": {
      "text/plain": [
       "'@realDonaldTrump what is your favorite book that you have authored?  Art of the Deal!'"
      ]
     },
     "execution_count": 10,
     "metadata": {},
     "output_type": "execute_result"
    }
   ],
   "source": [
    "rsi = rs.index[0]\n",
    "rsi\n",
    "conversation_frame.iloc[rsi]['answer']"
   ]
  },
  {
   "cell_type": "code",
   "execution_count": 11,
   "metadata": {
    "collapsed": true
   },
   "outputs": [],
   "source": [
    "def get_response(question):\n",
    "    my_question = vectorizer.transform([question])\n",
    "    cs = cosine_similarity(my_question, vec)\n",
    "    rs = pd.Series(cs[0]).sort_values(ascending=False)\n",
    "    rsi = rs.index[0]\n",
    "    return conversation_frame.iloc[rsi]['answer']"
   ]
  },
  {
   "cell_type": "code",
   "execution_count": 12,
   "metadata": {
    "collapsed": false
   },
   "outputs": [
    {
     "data": {
      "text/plain": [
       "'@realDonaldTrump I agree Donald Please run for president. Your alot smarter than Hillary. America needs you.  Thanks!'"
      ]
     },
     "execution_count": 12,
     "metadata": {},
     "output_type": "execute_result"
    }
   ],
   "source": [
    "get_response(\"I'm smarter than you'll ever be\")"
   ]
  },
  {
   "cell_type": "code",
   "execution_count": 13,
   "metadata": {
    "collapsed": false
   },
   "outputs": [
    {
     "data": {
      "text/plain": [
       "'@realDonaldTrump Wonderful job On the Record\"! I think you are tops!\"'"
      ]
     },
     "execution_count": 13,
     "metadata": {},
     "output_type": "execute_result"
    }
   ],
   "source": [
    "get_response('Who do you think you are?')"
   ]
  },
  {
   "cell_type": "code",
   "execution_count": 14,
   "metadata": {
    "collapsed": false
   },
   "outputs": [
    {
     "data": {
      "text/plain": [
       "\"Going to @Macys this weekend to get @realDonaldTrump ties! What's your favorite color Mr. Trump?  Blue but all are great!\""
      ]
     },
     "execution_count": 14,
     "metadata": {},
     "output_type": "execute_result"
    }
   ],
   "source": [
    "get_response(\"My favorite color is blue. What's yours\")"
   ]
  },
  {
   "cell_type": "code",
   "execution_count": 15,
   "metadata": {
    "collapsed": false
   },
   "outputs": [
    {
     "data": {
      "text/plain": [
       "'@jdstravel @realDonaldTrump Do you have a helipad at Trump National LA?  Yes!'"
      ]
     },
     "execution_count": 15,
     "metadata": {},
     "output_type": "execute_result"
    }
   ],
   "source": [
    "get_response(\"Do you have any questions for me?\")"
   ]
  },
  {
   "cell_type": "code",
   "execution_count": 16,
   "metadata": {
    "collapsed": false
   },
   "outputs": [
    {
     "data": {
      "text/plain": [
       "'@realDonaldTrump Thank you for all you do for the #troops! May God bless all of our #Veterans this Memorial Day! Thanks.'"
      ]
     },
     "execution_count": 16,
     "metadata": {},
     "output_type": "execute_result"
    }
   ],
   "source": [
    "get_response(\"What do you do for fun?\")"
   ]
  },
  {
   "cell_type": "code",
   "execution_count": 17,
   "metadata": {
    "collapsed": false
   },
   "outputs": [
    {
     "data": {
      "text/plain": [
       "'@realDonaldTrump how do you find the time?\" Not easy!'"
      ]
     },
     "execution_count": 17,
     "metadata": {},
     "output_type": "execute_result"
    }
   ],
   "source": [
    "get_response(\"How do you think others would describe you?\")"
   ]
  },
  {
   "cell_type": "code",
   "execution_count": 18,
   "metadata": {
    "collapsed": false
   },
   "outputs": [
    {
     "data": {
      "text/plain": [
       "'“If you’re going to be thinking anything you might as well think big” http://t.co/GSj6NtQJWH'"
      ]
     },
     "execution_count": 18,
     "metadata": {},
     "output_type": "execute_result"
    }
   ],
   "source": [
    "get_response(\"Is there anything you'd like to apologize for?\")"
   ]
  },
  {
   "cell_type": "code",
   "execution_count": 19,
   "metadata": {
    "collapsed": false
   },
   "outputs": [
    {
     "data": {
      "text/plain": [
       "'@jdstravel @realDonaldTrump Do you have a helipad at Trump National LA?  Yes!'"
      ]
     },
     "execution_count": 19,
     "metadata": {},
     "output_type": "execute_result"
    }
   ],
   "source": [
    "get_response(\"Do you have any regrets?\")"
   ]
  },
  {
   "cell_type": "code",
   "execution_count": 20,
   "metadata": {
    "collapsed": false
   },
   "outputs": [
    {
     "data": {
      "text/plain": [
       "'@realDonaldTrump what do we have to do to get real leadership in our country? Find greatness and push to victory!'"
      ]
     },
     "execution_count": 20,
     "metadata": {},
     "output_type": "execute_result"
    }
   ],
   "source": [
    "get_response(\"What do you do to relax?\")"
   ]
  },
  {
   "cell_type": "code",
   "execution_count": 21,
   "metadata": {
    "collapsed": false
   },
   "outputs": [
    {
     "data": {
      "text/plain": [
       "'do nothing say nothing and be nothing.– Aristotle'"
      ]
     },
     "execution_count": 21,
     "metadata": {},
     "output_type": "execute_result"
    }
   ],
   "source": [
    "get_response(\"Say goodbye, Trump\")"
   ]
  },
  {
   "cell_type": "code",
   "execution_count": 22,
   "metadata": {
    "collapsed": false
   },
   "outputs": [
    {
     "data": {
      "text/plain": [
       "'@realDonaldTrump What advice would you give to someone who is really addicted to alcohol???  Tough deal but can be licked-AA.'"
      ]
     },
     "execution_count": 22,
     "metadata": {},
     "output_type": "execute_result"
    }
   ],
   "source": [
    "get_response(\"What advise would you give yourself in the future?\")"
   ]
  }
 ],
 "metadata": {
  "anaconda-cloud": {},
  "kernelspec": {
   "display_name": "Python 3",
   "language": "python",
   "name": "python3"
  },
  "language_info": {
   "codemirror_mode": {
    "name": "ipython",
    "version": 3
   },
   "file_extension": ".py",
   "mimetype": "text/x-python",
   "name": "python",
   "nbconvert_exporter": "python",
   "pygments_lexer": "ipython3",
   "version": "3.5.2"
  }
 },
 "nbformat": 4,
 "nbformat_minor": 1
}
